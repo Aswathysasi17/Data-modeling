{
 "cells": [
  {
   "cell_type": "markdown",
   "id": "9efec3a6",
   "metadata": {},
   "source": [
    "# DATA MODELING AND MACHINE LEARNING - PROJECT"
   ]
  },
  {
   "cell_type": "markdown",
   "id": "c66147ff",
   "metadata": {},
   "source": [
    "Name - Aswathy Sasi"
   ]
  },
  {
   "cell_type": "markdown",
   "id": "41e02708",
   "metadata": {},
   "source": [
    "# INTRODUCTION"
   ]
  },
  {
   "cell_type": "markdown",
   "id": "4c441507",
   "metadata": {},
   "source": [
    "### Air pollution"
   ]
  },
  {
   "cell_type": "markdown",
   "id": "7d3dd9fa",
   "metadata": {},
   "source": [
    "Air pollution refers to the release of pollutants into the air that are detrimental to human health and the planet as a whole. It can be described as one of the most dangerous threats that the humanity ever faced.It also contributes to the depletion of the ozone layer, which protects the Earth from the sun's UV rays."
   ]
  },
  {
   "cell_type": "markdown",
   "id": "fbc77085",
   "metadata": {},
   "source": [
    "### Context"
   ]
  },
  {
   "cell_type": "markdown",
   "id": "3dcc1d3d",
   "metadata": {},
   "source": [
    "Since industrialization, there has been an increasing concern about environmental pollution. As mentioned in the WHO report 7 million premature deaths annually linked to air pollution , air pollution is the world's largest single environmental risk. Moreover as reported in the NY Times article, India’s Air Pollution Rivals China’s as World’s Deadliest it has been found that India's air pollution is deadlier than even China's.\n",
    "\n",
    "Using this dataset, one can explore India's air pollution levels at a more granular scale."
   ]
  },
  {
   "cell_type": "markdown",
   "id": "8d375820",
   "metadata": {},
   "source": [
    "### About dataset "
   ]
  },
  {
   "cell_type": "markdown",
   "id": "65b2c23c",
   "metadata": {},
   "source": [
    "It contains Real time National Air Quality Index values from different monitoring stations across India. The pollutants monitored are Sulphur Dioxide (SO2), Nitrogen Dioxide (NO2), Particulate Matter (PM2.5) , Carbon Monoxide (CO), Ozone(O3), Benzene,Toluene\tXylene\tAQI\tAQI_Bucket .\n",
    "\n"
   ]
  },
  {
   "cell_type": "markdown",
   "id": "be0acb97",
   "metadata": {},
   "source": [
    "### Importing libraries and reading the dataset"
   ]
  },
  {
   "cell_type": "code",
   "execution_count": 1,
   "id": "ca48c7c9",
   "metadata": {},
   "outputs": [],
   "source": [
    "import numpy as np\n",
    "import pandas as pd\n",
    "import matplotlib.pyplot as plt\n",
    "import seaborn as sns"
   ]
  },
  {
   "cell_type": "code",
   "execution_count": 2,
   "id": "f184bb09",
   "metadata": {
    "scrolled": false
   },
   "outputs": [
    {
     "data": {
      "text/html": [
       "<div>\n",
       "<style scoped>\n",
       "    .dataframe tbody tr th:only-of-type {\n",
       "        vertical-align: middle;\n",
       "    }\n",
       "\n",
       "    .dataframe tbody tr th {\n",
       "        vertical-align: top;\n",
       "    }\n",
       "\n",
       "    .dataframe thead th {\n",
       "        text-align: right;\n",
       "    }\n",
       "</style>\n",
       "<table border=\"1\" class=\"dataframe\">\n",
       "  <thead>\n",
       "    <tr style=\"text-align: right;\">\n",
       "      <th></th>\n",
       "      <th>City</th>\n",
       "      <th>PM2.5</th>\n",
       "      <th>NO</th>\n",
       "      <th>NO2</th>\n",
       "      <th>NOx</th>\n",
       "      <th>CO</th>\n",
       "      <th>SO2</th>\n",
       "      <th>O3</th>\n",
       "      <th>Benzene</th>\n",
       "      <th>Toluene</th>\n",
       "      <th>Xylene</th>\n",
       "      <th>AQI</th>\n",
       "      <th>AQI_Bucket</th>\n",
       "    </tr>\n",
       "  </thead>\n",
       "  <tbody>\n",
       "    <tr>\n",
       "      <th>0</th>\n",
       "      <td>Ahmedabad</td>\n",
       "      <td>83.13</td>\n",
       "      <td>6.93</td>\n",
       "      <td>28.71</td>\n",
       "      <td>33.72</td>\n",
       "      <td>6.93</td>\n",
       "      <td>49.52</td>\n",
       "      <td>59.76</td>\n",
       "      <td>0.02</td>\n",
       "      <td>0.00</td>\n",
       "      <td>3.14</td>\n",
       "      <td>209</td>\n",
       "      <td>Poor</td>\n",
       "    </tr>\n",
       "    <tr>\n",
       "      <th>1</th>\n",
       "      <td>Ahmedabad</td>\n",
       "      <td>79.84</td>\n",
       "      <td>13.85</td>\n",
       "      <td>28.68</td>\n",
       "      <td>41.08</td>\n",
       "      <td>13.85</td>\n",
       "      <td>48.49</td>\n",
       "      <td>97.07</td>\n",
       "      <td>0.04</td>\n",
       "      <td>0.00</td>\n",
       "      <td>4.81</td>\n",
       "      <td>328</td>\n",
       "      <td>Very Poor</td>\n",
       "    </tr>\n",
       "    <tr>\n",
       "      <th>2</th>\n",
       "      <td>Ahmedabad</td>\n",
       "      <td>94.52</td>\n",
       "      <td>24.39</td>\n",
       "      <td>32.66</td>\n",
       "      <td>52.61</td>\n",
       "      <td>24.39</td>\n",
       "      <td>67.39</td>\n",
       "      <td>111.33</td>\n",
       "      <td>0.24</td>\n",
       "      <td>0.01</td>\n",
       "      <td>7.67</td>\n",
       "      <td>514</td>\n",
       "      <td>Severe</td>\n",
       "    </tr>\n",
       "    <tr>\n",
       "      <th>3</th>\n",
       "      <td>Ahmedabad</td>\n",
       "      <td>135.99</td>\n",
       "      <td>43.48</td>\n",
       "      <td>42.08</td>\n",
       "      <td>84.57</td>\n",
       "      <td>43.48</td>\n",
       "      <td>75.23</td>\n",
       "      <td>102.70</td>\n",
       "      <td>0.40</td>\n",
       "      <td>0.04</td>\n",
       "      <td>25.87</td>\n",
       "      <td>782</td>\n",
       "      <td>Severe</td>\n",
       "    </tr>\n",
       "    <tr>\n",
       "      <th>4</th>\n",
       "      <td>Ahmedabad</td>\n",
       "      <td>178.33</td>\n",
       "      <td>54.56</td>\n",
       "      <td>35.31</td>\n",
       "      <td>72.80</td>\n",
       "      <td>54.56</td>\n",
       "      <td>55.04</td>\n",
       "      <td>107.38</td>\n",
       "      <td>0.46</td>\n",
       "      <td>0.06</td>\n",
       "      <td>35.61</td>\n",
       "      <td>914</td>\n",
       "      <td>Severe</td>\n",
       "    </tr>\n",
       "    <tr>\n",
       "      <th>...</th>\n",
       "      <td>...</td>\n",
       "      <td>...</td>\n",
       "      <td>...</td>\n",
       "      <td>...</td>\n",
       "      <td>...</td>\n",
       "      <td>...</td>\n",
       "      <td>...</td>\n",
       "      <td>...</td>\n",
       "      <td>...</td>\n",
       "      <td>...</td>\n",
       "      <td>...</td>\n",
       "      <td>...</td>\n",
       "      <td>...</td>\n",
       "    </tr>\n",
       "    <tr>\n",
       "      <th>2494</th>\n",
       "      <td>Amritsar</td>\n",
       "      <td>51.10</td>\n",
       "      <td>25.25</td>\n",
       "      <td>20.80</td>\n",
       "      <td>35.75</td>\n",
       "      <td>0.66</td>\n",
       "      <td>4.55</td>\n",
       "      <td>16.48</td>\n",
       "      <td>1.30</td>\n",
       "      <td>1.10</td>\n",
       "      <td>8.82</td>\n",
       "      <td>74</td>\n",
       "      <td>Satisfactory</td>\n",
       "    </tr>\n",
       "    <tr>\n",
       "      <th>2495</th>\n",
       "      <td>Amritsar</td>\n",
       "      <td>45.24</td>\n",
       "      <td>23.11</td>\n",
       "      <td>17.90</td>\n",
       "      <td>27.47</td>\n",
       "      <td>0.63</td>\n",
       "      <td>5.22</td>\n",
       "      <td>16.48</td>\n",
       "      <td>1.16</td>\n",
       "      <td>0.98</td>\n",
       "      <td>7.85</td>\n",
       "      <td>85</td>\n",
       "      <td>Satisfactory</td>\n",
       "    </tr>\n",
       "    <tr>\n",
       "      <th>2496</th>\n",
       "      <td>Amritsar</td>\n",
       "      <td>26.77</td>\n",
       "      <td>26.99</td>\n",
       "      <td>19.83</td>\n",
       "      <td>34.03</td>\n",
       "      <td>0.67</td>\n",
       "      <td>4.89</td>\n",
       "      <td>16.48</td>\n",
       "      <td>1.30</td>\n",
       "      <td>1.10</td>\n",
       "      <td>8.81</td>\n",
       "      <td>49</td>\n",
       "      <td>Good</td>\n",
       "    </tr>\n",
       "    <tr>\n",
       "      <th>2497</th>\n",
       "      <td>Amritsar</td>\n",
       "      <td>41.64</td>\n",
       "      <td>22.03</td>\n",
       "      <td>15.97</td>\n",
       "      <td>30.60</td>\n",
       "      <td>0.69</td>\n",
       "      <td>4.67</td>\n",
       "      <td>16.48</td>\n",
       "      <td>1.30</td>\n",
       "      <td>1.10</td>\n",
       "      <td>8.72</td>\n",
       "      <td>66</td>\n",
       "      <td>Satisfactory</td>\n",
       "    </tr>\n",
       "    <tr>\n",
       "      <th>2498</th>\n",
       "      <td>Amritsar</td>\n",
       "      <td>57.67</td>\n",
       "      <td>32.81</td>\n",
       "      <td>15.11</td>\n",
       "      <td>30.20</td>\n",
       "      <td>0.59</td>\n",
       "      <td>3.48</td>\n",
       "      <td>16.48</td>\n",
       "      <td>1.30</td>\n",
       "      <td>1.10</td>\n",
       "      <td>8.82</td>\n",
       "      <td>78</td>\n",
       "      <td>Satisfactory</td>\n",
       "    </tr>\n",
       "  </tbody>\n",
       "</table>\n",
       "<p>2499 rows × 13 columns</p>\n",
       "</div>"
      ],
      "text/plain": [
       "           City   PM2.5     NO    NO2    NOx     CO    SO2      O3  Benzene  \\\n",
       "0     Ahmedabad   83.13   6.93  28.71  33.72   6.93  49.52   59.76     0.02   \n",
       "1     Ahmedabad   79.84  13.85  28.68  41.08  13.85  48.49   97.07     0.04   \n",
       "2     Ahmedabad   94.52  24.39  32.66  52.61  24.39  67.39  111.33     0.24   \n",
       "3     Ahmedabad  135.99  43.48  42.08  84.57  43.48  75.23  102.70     0.40   \n",
       "4     Ahmedabad  178.33  54.56  35.31  72.80  54.56  55.04  107.38     0.46   \n",
       "...         ...     ...    ...    ...    ...    ...    ...     ...      ...   \n",
       "2494   Amritsar   51.10  25.25  20.80  35.75   0.66   4.55   16.48     1.30   \n",
       "2495   Amritsar   45.24  23.11  17.90  27.47   0.63   5.22   16.48     1.16   \n",
       "2496   Amritsar   26.77  26.99  19.83  34.03   0.67   4.89   16.48     1.30   \n",
       "2497   Amritsar   41.64  22.03  15.97  30.60   0.69   4.67   16.48     1.30   \n",
       "2498   Amritsar   57.67  32.81  15.11  30.20   0.59   3.48   16.48     1.30   \n",
       "\n",
       "      Toluene  Xylene  AQI    AQI_Bucket  \n",
       "0        0.00    3.14  209          Poor  \n",
       "1        0.00    4.81  328     Very Poor  \n",
       "2        0.01    7.67  514        Severe  \n",
       "3        0.04   25.87  782        Severe  \n",
       "4        0.06   35.61  914        Severe  \n",
       "...       ...     ...  ...           ...  \n",
       "2494     1.10    8.82   74  Satisfactory  \n",
       "2495     0.98    7.85   85  Satisfactory  \n",
       "2496     1.10    8.81   49          Good  \n",
       "2497     1.10    8.72   66  Satisfactory  \n",
       "2498     1.10    8.82   78  Satisfactory  \n",
       "\n",
       "[2499 rows x 13 columns]"
      ]
     },
     "execution_count": 2,
     "metadata": {},
     "output_type": "execute_result"
    }
   ],
   "source": [
    "df=pd.read_csv(\"C:/Users/aswat/Downloads/Air_Pollution_data (1).csv\")\n",
    "df"
   ]
  },
  {
   "cell_type": "markdown",
   "id": "48c5cbfd",
   "metadata": {},
   "source": [
    " Means of column\n",
    " \n",
    " city - city names\n",
    " \n",
    " PM2.5 - Particulate matter (particles (tiny pieces) of solids or liquids that are in the air. These particles may include: Dust. Dirt. Soot.)\n",
    " \n",
    "AQI - Air quality index\n",
    "\n",
    "AQI_Bucket  - It has six categories called “Good”, “Satisfactory”, “Moderately polluted”, “Poor”, “Very Poor”, and “Severe”. For each of the above pollutants, a specific range was decided to categorize them into the six buckets."
   ]
  },
  {
   "cell_type": "code",
   "execution_count": 3,
   "id": "aac2e725",
   "metadata": {},
   "outputs": [
    {
     "data": {
      "text/html": [
       "<div>\n",
       "<style scoped>\n",
       "    .dataframe tbody tr th:only-of-type {\n",
       "        vertical-align: middle;\n",
       "    }\n",
       "\n",
       "    .dataframe tbody tr th {\n",
       "        vertical-align: top;\n",
       "    }\n",
       "\n",
       "    .dataframe thead th {\n",
       "        text-align: right;\n",
       "    }\n",
       "</style>\n",
       "<table border=\"1\" class=\"dataframe\">\n",
       "  <thead>\n",
       "    <tr style=\"text-align: right;\">\n",
       "      <th></th>\n",
       "      <th>City</th>\n",
       "      <th>PM2.5</th>\n",
       "      <th>NO</th>\n",
       "      <th>NO2</th>\n",
       "      <th>NOx</th>\n",
       "      <th>CO</th>\n",
       "      <th>SO2</th>\n",
       "      <th>O3</th>\n",
       "      <th>Benzene</th>\n",
       "      <th>Toluene</th>\n",
       "      <th>Xylene</th>\n",
       "      <th>AQI</th>\n",
       "      <th>AQI_Bucket</th>\n",
       "    </tr>\n",
       "  </thead>\n",
       "  <tbody>\n",
       "    <tr>\n",
       "      <th>0</th>\n",
       "      <td>Ahmedabad</td>\n",
       "      <td>83.13</td>\n",
       "      <td>6.93</td>\n",
       "      <td>28.71</td>\n",
       "      <td>33.72</td>\n",
       "      <td>6.93</td>\n",
       "      <td>49.52</td>\n",
       "      <td>59.76</td>\n",
       "      <td>0.02</td>\n",
       "      <td>0.00</td>\n",
       "      <td>3.14</td>\n",
       "      <td>209</td>\n",
       "      <td>Poor</td>\n",
       "    </tr>\n",
       "    <tr>\n",
       "      <th>1</th>\n",
       "      <td>Ahmedabad</td>\n",
       "      <td>79.84</td>\n",
       "      <td>13.85</td>\n",
       "      <td>28.68</td>\n",
       "      <td>41.08</td>\n",
       "      <td>13.85</td>\n",
       "      <td>48.49</td>\n",
       "      <td>97.07</td>\n",
       "      <td>0.04</td>\n",
       "      <td>0.00</td>\n",
       "      <td>4.81</td>\n",
       "      <td>328</td>\n",
       "      <td>Very Poor</td>\n",
       "    </tr>\n",
       "    <tr>\n",
       "      <th>2</th>\n",
       "      <td>Ahmedabad</td>\n",
       "      <td>94.52</td>\n",
       "      <td>24.39</td>\n",
       "      <td>32.66</td>\n",
       "      <td>52.61</td>\n",
       "      <td>24.39</td>\n",
       "      <td>67.39</td>\n",
       "      <td>111.33</td>\n",
       "      <td>0.24</td>\n",
       "      <td>0.01</td>\n",
       "      <td>7.67</td>\n",
       "      <td>514</td>\n",
       "      <td>Severe</td>\n",
       "    </tr>\n",
       "    <tr>\n",
       "      <th>3</th>\n",
       "      <td>Ahmedabad</td>\n",
       "      <td>135.99</td>\n",
       "      <td>43.48</td>\n",
       "      <td>42.08</td>\n",
       "      <td>84.57</td>\n",
       "      <td>43.48</td>\n",
       "      <td>75.23</td>\n",
       "      <td>102.70</td>\n",
       "      <td>0.40</td>\n",
       "      <td>0.04</td>\n",
       "      <td>25.87</td>\n",
       "      <td>782</td>\n",
       "      <td>Severe</td>\n",
       "    </tr>\n",
       "    <tr>\n",
       "      <th>4</th>\n",
       "      <td>Ahmedabad</td>\n",
       "      <td>178.33</td>\n",
       "      <td>54.56</td>\n",
       "      <td>35.31</td>\n",
       "      <td>72.80</td>\n",
       "      <td>54.56</td>\n",
       "      <td>55.04</td>\n",
       "      <td>107.38</td>\n",
       "      <td>0.46</td>\n",
       "      <td>0.06</td>\n",
       "      <td>35.61</td>\n",
       "      <td>914</td>\n",
       "      <td>Severe</td>\n",
       "    </tr>\n",
       "  </tbody>\n",
       "</table>\n",
       "</div>"
      ],
      "text/plain": [
       "        City   PM2.5     NO    NO2    NOx     CO    SO2      O3  Benzene  \\\n",
       "0  Ahmedabad   83.13   6.93  28.71  33.72   6.93  49.52   59.76     0.02   \n",
       "1  Ahmedabad   79.84  13.85  28.68  41.08  13.85  48.49   97.07     0.04   \n",
       "2  Ahmedabad   94.52  24.39  32.66  52.61  24.39  67.39  111.33     0.24   \n",
       "3  Ahmedabad  135.99  43.48  42.08  84.57  43.48  75.23  102.70     0.40   \n",
       "4  Ahmedabad  178.33  54.56  35.31  72.80  54.56  55.04  107.38     0.46   \n",
       "\n",
       "   Toluene  Xylene  AQI AQI_Bucket  \n",
       "0     0.00    3.14  209       Poor  \n",
       "1     0.00    4.81  328  Very Poor  \n",
       "2     0.01    7.67  514     Severe  \n",
       "3     0.04   25.87  782     Severe  \n",
       "4     0.06   35.61  914     Severe  "
      ]
     },
     "execution_count": 3,
     "metadata": {},
     "output_type": "execute_result"
    }
   ],
   "source": [
    "df.head()"
   ]
  },
  {
   "cell_type": "markdown",
   "id": "2a7ed0d5",
   "metadata": {},
   "source": [
    "The data set is Collected and read to Python."
   ]
  },
  {
   "cell_type": "markdown",
   "id": "8c3a5b86",
   "metadata": {},
   "source": [
    "### Preprocessing"
   ]
  },
  {
   "cell_type": "markdown",
   "id": "454e859f",
   "metadata": {},
   "source": [
    "### Data Cleaning"
   ]
  },
  {
   "cell_type": "markdown",
   "id": "87046872",
   "metadata": {},
   "source": [
    "#### Encoding"
   ]
  },
  {
   "cell_type": "markdown",
   "id": "7ad65ba5",
   "metadata": {},
   "source": [
    "Encoding is a technique of converting categorical variables into numerical values so that it could be easily fitted to a machine learning model."
   ]
  },
  {
   "cell_type": "markdown",
   "id": "4652d8a7",
   "metadata": {},
   "source": [
    "##### OrdinalEncoding"
   ]
  },
  {
   "cell_type": "markdown",
   "id": "c21e433e",
   "metadata": {},
   "source": [
    "This type of encoding is used when the variables in the data are ordinal, ordinal encoding converts each label into integer values and the encoded data represents the sequence of labels."
   ]
  },
  {
   "cell_type": "code",
   "execution_count": 4,
   "id": "8a6d13af",
   "metadata": {},
   "outputs": [],
   "source": [
    "from sklearn.preprocessing import OrdinalEncoder\n",
    "from sklearn.preprocessing import OneHotEncoder\n",
    "from sklearn.preprocessing import LabelEncoder"
   ]
  },
  {
   "cell_type": "code",
   "execution_count": 5,
   "id": "6ba59d3c",
   "metadata": {},
   "outputs": [],
   "source": [
    "scale_mapper = {'Good':6,'Satisfactory':5,'Moderate':4,'Poor':3,'Very Poor':2,'Severe':1}\n",
    "df['AQI_Bucket'] = df['AQI_Bucket'].replace(scale_mapper)"
   ]
  },
  {
   "cell_type": "code",
   "execution_count": 6,
   "id": "ec7a001e",
   "metadata": {},
   "outputs": [
    {
     "data": {
      "text/html": [
       "<div>\n",
       "<style scoped>\n",
       "    .dataframe tbody tr th:only-of-type {\n",
       "        vertical-align: middle;\n",
       "    }\n",
       "\n",
       "    .dataframe tbody tr th {\n",
       "        vertical-align: top;\n",
       "    }\n",
       "\n",
       "    .dataframe thead th {\n",
       "        text-align: right;\n",
       "    }\n",
       "</style>\n",
       "<table border=\"1\" class=\"dataframe\">\n",
       "  <thead>\n",
       "    <tr style=\"text-align: right;\">\n",
       "      <th></th>\n",
       "      <th>City</th>\n",
       "      <th>PM2.5</th>\n",
       "      <th>NO</th>\n",
       "      <th>NO2</th>\n",
       "      <th>NOx</th>\n",
       "      <th>CO</th>\n",
       "      <th>SO2</th>\n",
       "      <th>O3</th>\n",
       "      <th>Benzene</th>\n",
       "      <th>Toluene</th>\n",
       "      <th>Xylene</th>\n",
       "      <th>AQI</th>\n",
       "      <th>AQI_Bucket</th>\n",
       "    </tr>\n",
       "  </thead>\n",
       "  <tbody>\n",
       "    <tr>\n",
       "      <th>0</th>\n",
       "      <td>Ahmedabad</td>\n",
       "      <td>83.13</td>\n",
       "      <td>6.93</td>\n",
       "      <td>28.71</td>\n",
       "      <td>33.72</td>\n",
       "      <td>6.93</td>\n",
       "      <td>49.52</td>\n",
       "      <td>59.76</td>\n",
       "      <td>0.02</td>\n",
       "      <td>0.00</td>\n",
       "      <td>3.14</td>\n",
       "      <td>209</td>\n",
       "      <td>3</td>\n",
       "    </tr>\n",
       "    <tr>\n",
       "      <th>1</th>\n",
       "      <td>Ahmedabad</td>\n",
       "      <td>79.84</td>\n",
       "      <td>13.85</td>\n",
       "      <td>28.68</td>\n",
       "      <td>41.08</td>\n",
       "      <td>13.85</td>\n",
       "      <td>48.49</td>\n",
       "      <td>97.07</td>\n",
       "      <td>0.04</td>\n",
       "      <td>0.00</td>\n",
       "      <td>4.81</td>\n",
       "      <td>328</td>\n",
       "      <td>2</td>\n",
       "    </tr>\n",
       "    <tr>\n",
       "      <th>2</th>\n",
       "      <td>Ahmedabad</td>\n",
       "      <td>94.52</td>\n",
       "      <td>24.39</td>\n",
       "      <td>32.66</td>\n",
       "      <td>52.61</td>\n",
       "      <td>24.39</td>\n",
       "      <td>67.39</td>\n",
       "      <td>111.33</td>\n",
       "      <td>0.24</td>\n",
       "      <td>0.01</td>\n",
       "      <td>7.67</td>\n",
       "      <td>514</td>\n",
       "      <td>1</td>\n",
       "    </tr>\n",
       "    <tr>\n",
       "      <th>3</th>\n",
       "      <td>Ahmedabad</td>\n",
       "      <td>135.99</td>\n",
       "      <td>43.48</td>\n",
       "      <td>42.08</td>\n",
       "      <td>84.57</td>\n",
       "      <td>43.48</td>\n",
       "      <td>75.23</td>\n",
       "      <td>102.70</td>\n",
       "      <td>0.40</td>\n",
       "      <td>0.04</td>\n",
       "      <td>25.87</td>\n",
       "      <td>782</td>\n",
       "      <td>1</td>\n",
       "    </tr>\n",
       "    <tr>\n",
       "      <th>4</th>\n",
       "      <td>Ahmedabad</td>\n",
       "      <td>178.33</td>\n",
       "      <td>54.56</td>\n",
       "      <td>35.31</td>\n",
       "      <td>72.80</td>\n",
       "      <td>54.56</td>\n",
       "      <td>55.04</td>\n",
       "      <td>107.38</td>\n",
       "      <td>0.46</td>\n",
       "      <td>0.06</td>\n",
       "      <td>35.61</td>\n",
       "      <td>914</td>\n",
       "      <td>1</td>\n",
       "    </tr>\n",
       "  </tbody>\n",
       "</table>\n",
       "</div>"
      ],
      "text/plain": [
       "        City   PM2.5     NO    NO2    NOx     CO    SO2      O3  Benzene  \\\n",
       "0  Ahmedabad   83.13   6.93  28.71  33.72   6.93  49.52   59.76     0.02   \n",
       "1  Ahmedabad   79.84  13.85  28.68  41.08  13.85  48.49   97.07     0.04   \n",
       "2  Ahmedabad   94.52  24.39  32.66  52.61  24.39  67.39  111.33     0.24   \n",
       "3  Ahmedabad  135.99  43.48  42.08  84.57  43.48  75.23  102.70     0.40   \n",
       "4  Ahmedabad  178.33  54.56  35.31  72.80  54.56  55.04  107.38     0.46   \n",
       "\n",
       "   Toluene  Xylene  AQI  AQI_Bucket  \n",
       "0     0.00    3.14  209           3  \n",
       "1     0.00    4.81  328           2  \n",
       "2     0.01    7.67  514           1  \n",
       "3     0.04   25.87  782           1  \n",
       "4     0.06   35.61  914           1  "
      ]
     },
     "execution_count": 6,
     "metadata": {},
     "output_type": "execute_result"
    }
   ],
   "source": [
    "df.head()"
   ]
  },
  {
   "cell_type": "markdown",
   "id": "e603d950",
   "metadata": {},
   "source": [
    "##### OneHot Encoding"
   ]
  },
  {
   "cell_type": "markdown",
   "id": "272c3007",
   "metadata": {},
   "source": [
    "One-Hot Encoding is the process of creating dummy variables. This technique is used for categorical variables where order does not matter. One-Hot encoding technique is used when the features are nominal(do not have any order). In one hot encoding, for every categorical feature, a new variable is created"
   ]
  },
  {
   "cell_type": "code",
   "execution_count": 7,
   "id": "9deeee66",
   "metadata": {},
   "outputs": [
    {
     "data": {
      "text/plain": [
       "3"
      ]
     },
     "execution_count": 7,
     "metadata": {},
     "output_type": "execute_result"
    }
   ],
   "source": [
    "df.City.nunique()"
   ]
  },
  {
   "cell_type": "code",
   "execution_count": 8,
   "id": "b736f0eb",
   "metadata": {},
   "outputs": [],
   "source": [
    "df=pd.get_dummies(df)"
   ]
  },
  {
   "cell_type": "code",
   "execution_count": 9,
   "id": "e90842c0",
   "metadata": {},
   "outputs": [
    {
     "data": {
      "text/html": [
       "<div>\n",
       "<style scoped>\n",
       "    .dataframe tbody tr th:only-of-type {\n",
       "        vertical-align: middle;\n",
       "    }\n",
       "\n",
       "    .dataframe tbody tr th {\n",
       "        vertical-align: top;\n",
       "    }\n",
       "\n",
       "    .dataframe thead th {\n",
       "        text-align: right;\n",
       "    }\n",
       "</style>\n",
       "<table border=\"1\" class=\"dataframe\">\n",
       "  <thead>\n",
       "    <tr style=\"text-align: right;\">\n",
       "      <th></th>\n",
       "      <th>PM2.5</th>\n",
       "      <th>NO</th>\n",
       "      <th>NO2</th>\n",
       "      <th>NOx</th>\n",
       "      <th>CO</th>\n",
       "      <th>SO2</th>\n",
       "      <th>O3</th>\n",
       "      <th>Benzene</th>\n",
       "      <th>Toluene</th>\n",
       "      <th>Xylene</th>\n",
       "      <th>AQI</th>\n",
       "      <th>AQI_Bucket</th>\n",
       "      <th>City_Ahmedabad</th>\n",
       "      <th>City_Amaravati</th>\n",
       "      <th>City_Amritsar</th>\n",
       "    </tr>\n",
       "  </thead>\n",
       "  <tbody>\n",
       "    <tr>\n",
       "      <th>0</th>\n",
       "      <td>83.13</td>\n",
       "      <td>6.93</td>\n",
       "      <td>28.71</td>\n",
       "      <td>33.72</td>\n",
       "      <td>6.93</td>\n",
       "      <td>49.52</td>\n",
       "      <td>59.76</td>\n",
       "      <td>0.02</td>\n",
       "      <td>0.00</td>\n",
       "      <td>3.14</td>\n",
       "      <td>209</td>\n",
       "      <td>3</td>\n",
       "      <td>1</td>\n",
       "      <td>0</td>\n",
       "      <td>0</td>\n",
       "    </tr>\n",
       "    <tr>\n",
       "      <th>1</th>\n",
       "      <td>79.84</td>\n",
       "      <td>13.85</td>\n",
       "      <td>28.68</td>\n",
       "      <td>41.08</td>\n",
       "      <td>13.85</td>\n",
       "      <td>48.49</td>\n",
       "      <td>97.07</td>\n",
       "      <td>0.04</td>\n",
       "      <td>0.00</td>\n",
       "      <td>4.81</td>\n",
       "      <td>328</td>\n",
       "      <td>2</td>\n",
       "      <td>1</td>\n",
       "      <td>0</td>\n",
       "      <td>0</td>\n",
       "    </tr>\n",
       "    <tr>\n",
       "      <th>2</th>\n",
       "      <td>94.52</td>\n",
       "      <td>24.39</td>\n",
       "      <td>32.66</td>\n",
       "      <td>52.61</td>\n",
       "      <td>24.39</td>\n",
       "      <td>67.39</td>\n",
       "      <td>111.33</td>\n",
       "      <td>0.24</td>\n",
       "      <td>0.01</td>\n",
       "      <td>7.67</td>\n",
       "      <td>514</td>\n",
       "      <td>1</td>\n",
       "      <td>1</td>\n",
       "      <td>0</td>\n",
       "      <td>0</td>\n",
       "    </tr>\n",
       "    <tr>\n",
       "      <th>3</th>\n",
       "      <td>135.99</td>\n",
       "      <td>43.48</td>\n",
       "      <td>42.08</td>\n",
       "      <td>84.57</td>\n",
       "      <td>43.48</td>\n",
       "      <td>75.23</td>\n",
       "      <td>102.70</td>\n",
       "      <td>0.40</td>\n",
       "      <td>0.04</td>\n",
       "      <td>25.87</td>\n",
       "      <td>782</td>\n",
       "      <td>1</td>\n",
       "      <td>1</td>\n",
       "      <td>0</td>\n",
       "      <td>0</td>\n",
       "    </tr>\n",
       "    <tr>\n",
       "      <th>4</th>\n",
       "      <td>178.33</td>\n",
       "      <td>54.56</td>\n",
       "      <td>35.31</td>\n",
       "      <td>72.80</td>\n",
       "      <td>54.56</td>\n",
       "      <td>55.04</td>\n",
       "      <td>107.38</td>\n",
       "      <td>0.46</td>\n",
       "      <td>0.06</td>\n",
       "      <td>35.61</td>\n",
       "      <td>914</td>\n",
       "      <td>1</td>\n",
       "      <td>1</td>\n",
       "      <td>0</td>\n",
       "      <td>0</td>\n",
       "    </tr>\n",
       "  </tbody>\n",
       "</table>\n",
       "</div>"
      ],
      "text/plain": [
       "    PM2.5     NO    NO2    NOx     CO    SO2      O3  Benzene  Toluene  \\\n",
       "0   83.13   6.93  28.71  33.72   6.93  49.52   59.76     0.02     0.00   \n",
       "1   79.84  13.85  28.68  41.08  13.85  48.49   97.07     0.04     0.00   \n",
       "2   94.52  24.39  32.66  52.61  24.39  67.39  111.33     0.24     0.01   \n",
       "3  135.99  43.48  42.08  84.57  43.48  75.23  102.70     0.40     0.04   \n",
       "4  178.33  54.56  35.31  72.80  54.56  55.04  107.38     0.46     0.06   \n",
       "\n",
       "   Xylene  AQI  AQI_Bucket  City_Ahmedabad  City_Amaravati  City_Amritsar  \n",
       "0    3.14  209           3               1               0              0  \n",
       "1    4.81  328           2               1               0              0  \n",
       "2    7.67  514           1               1               0              0  \n",
       "3   25.87  782           1               1               0              0  \n",
       "4   35.61  914           1               1               0              0  "
      ]
     },
     "execution_count": 9,
     "metadata": {},
     "output_type": "execute_result"
    }
   ],
   "source": [
    "df.head()"
   ]
  },
  {
   "cell_type": "markdown",
   "id": "8de7a028",
   "metadata": {},
   "source": [
    "#### Missing value handling "
   ]
  },
  {
   "cell_type": "markdown",
   "id": "e5108737",
   "metadata": {},
   "source": [
    "Checking if there are missing values"
   ]
  },
  {
   "cell_type": "code",
   "execution_count": 10,
   "id": "0f438b43",
   "metadata": {},
   "outputs": [
    {
     "name": "stdout",
     "output_type": "stream",
     "text": [
      "<class 'pandas.core.frame.DataFrame'>\n",
      "RangeIndex: 2499 entries, 0 to 2498\n",
      "Data columns (total 15 columns):\n",
      " #   Column          Non-Null Count  Dtype  \n",
      "---  ------          --------------  -----  \n",
      " 0   PM2.5           2498 non-null   float64\n",
      " 1   NO              2499 non-null   float64\n",
      " 2   NO2             2499 non-null   float64\n",
      " 3   NOx             2498 non-null   float64\n",
      " 4   CO              2497 non-null   float64\n",
      " 5   SO2             2482 non-null   float64\n",
      " 6   O3              2475 non-null   float64\n",
      " 7   Benzene         2498 non-null   float64\n",
      " 8   Toluene         2498 non-null   float64\n",
      " 9   Xylene          2413 non-null   float64\n",
      " 10  AQI             2499 non-null   int64  \n",
      " 11  AQI_Bucket      2499 non-null   int64  \n",
      " 12  City_Ahmedabad  2499 non-null   uint8  \n",
      " 13  City_Amaravati  2499 non-null   uint8  \n",
      " 14  City_Amritsar   2499 non-null   uint8  \n",
      "dtypes: float64(10), int64(2), uint8(3)\n",
      "memory usage: 241.7 KB\n"
     ]
    }
   ],
   "source": [
    "df.info()"
   ]
  },
  {
   "cell_type": "markdown",
   "id": "91ebba13",
   "metadata": {},
   "source": [
    "we can see there is no null values"
   ]
  },
  {
   "cell_type": "code",
   "execution_count": 11,
   "id": "7ce9e3aa",
   "metadata": {},
   "outputs": [
    {
     "data": {
      "text/plain": [
       "PM2.5              1\n",
       "NO                 0\n",
       "NO2                0\n",
       "NOx                1\n",
       "CO                 2\n",
       "SO2               17\n",
       "O3                24\n",
       "Benzene            1\n",
       "Toluene            1\n",
       "Xylene            86\n",
       "AQI                0\n",
       "AQI_Bucket         0\n",
       "City_Ahmedabad     0\n",
       "City_Amaravati     0\n",
       "City_Amritsar      0\n",
       "dtype: int64"
      ]
     },
     "execution_count": 11,
     "metadata": {},
     "output_type": "execute_result"
    }
   ],
   "source": [
    "df.isnull().sum()"
   ]
  },
  {
   "cell_type": "markdown",
   "id": "b35a204e",
   "metadata": {},
   "source": [
    "We can see there is missing values.So we are going to handle the missing values by KNNImputer.Imputation in statistics refers to the procedure of using alternative values in place of missing data."
   ]
  },
  {
   "cell_type": "code",
   "execution_count": 12,
   "id": "db0f1cdf",
   "metadata": {},
   "outputs": [],
   "source": [
    "from sklearn.impute import KNNImputer"
   ]
  },
  {
   "cell_type": "code",
   "execution_count": 13,
   "id": "679e637d",
   "metadata": {},
   "outputs": [],
   "source": [
    "imputer = KNNImputer(n_neighbors=2)\n",
    "df = pd.DataFrame(imputer.fit_transform(df),columns = df.columns)"
   ]
  },
  {
   "cell_type": "code",
   "execution_count": 14,
   "id": "2d43b230",
   "metadata": {},
   "outputs": [
    {
     "data": {
      "text/plain": [
       "PM2.5             0\n",
       "NO                0\n",
       "NO2               0\n",
       "NOx               0\n",
       "CO                0\n",
       "SO2               0\n",
       "O3                0\n",
       "Benzene           0\n",
       "Toluene           0\n",
       "Xylene            0\n",
       "AQI               0\n",
       "AQI_Bucket        0\n",
       "City_Ahmedabad    0\n",
       "City_Amaravati    0\n",
       "City_Amritsar     0\n",
       "dtype: int64"
      ]
     },
     "execution_count": 14,
     "metadata": {},
     "output_type": "execute_result"
    }
   ],
   "source": [
    "df.isna().sum()"
   ]
  },
  {
   "cell_type": "markdown",
   "id": "80b7c779",
   "metadata": {},
   "source": [
    "missing values are handles using KNNImputer"
   ]
  },
  {
   "cell_type": "markdown",
   "id": "00e6f612",
   "metadata": {},
   "source": [
    "#### Data visualization and EDA"
   ]
  },
  {
   "cell_type": "markdown",
   "id": "3c75ef39",
   "metadata": {},
   "source": [
    "###### Graphical visualisations to understand the data distribution"
   ]
  },
  {
   "cell_type": "code",
   "execution_count": 15,
   "id": "0cb99a07",
   "metadata": {
    "scrolled": true
   },
   "outputs": [
    {
     "data": {
      "text/plain": [
       "Text(0.5, 1.0, 'NOx vs NO2')"
      ]
     },
     "execution_count": 15,
     "metadata": {},
     "output_type": "execute_result"
    },
    {
     "data": {
      "image/png": "[encoded data removed]",
      "text/plain": [
       "<Figure size 1440x720 with 1 Axes>"
      ]
     },
     "metadata": {
      "needs_background": "light"
     },
     "output_type": "display_data"
    }
   ],
   "source": [
    "plt.figure(figsize=(20,10))\n",
    "sns.scatterplot(x='NOx',y='NO2',data=df)\n",
    "plt.title('NOx vs NO2',size=20)"
   ]
  },
  {
   "cell_type": "markdown",
   "id": "2a488db6",
   "metadata": {},
   "source": [
    "NO2 and NOx is found to show some close relation in the lower range while as the value increase they seem to spread out."
   ]
  },
  {
   "cell_type": "code",
   "execution_count": 16,
   "id": "3176fb63",
   "metadata": {},
   "outputs": [
    {
     "data": {
      "text/plain": [
       "<AxesSubplot:>"
      ]
     },
     "execution_count": 16,
     "metadata": {},
     "output_type": "execute_result"
    },
    {
     "data": {
      "image/png": "[encoded data removed]",
      "text/plain": [
       "<Figure size 1440x576 with 2 Axes>"
      ]
     },
     "metadata": {
      "needs_background": "light"
     },
     "output_type": "display_data"
    }
   ],
   "source": [
    "corrmatrix=df[['NO','NO2','NOx']].corr()\n",
    "plt.subplots(figsize=(20,8))\n",
    "sns.heatmap(corrmatrix,vmin=.4,vmax=.9,annot=True,linewidth=0.3)"
   ]
  },
  {
   "cell_type": "markdown",
   "id": "55a43e2f",
   "metadata": {},
   "source": [
    "NO and NO2 are found to show good correlation with NOx (.77 and .79 Respectively)"
   ]
  },
  {
   "cell_type": "code",
   "execution_count": 17,
   "id": "9d8a28c0",
   "metadata": {
    "scrolled": true
   },
   "outputs": [
    {
     "data": {
      "image/png": "[encoded data removed]",
      "text/plain": [
       "<Figure size 1440x1080 with 16 Axes>"
      ]
     },
     "metadata": {
      "needs_background": "light"
     },
     "output_type": "display_data"
    }
   ],
   "source": [
    "freqgraph=df.select_dtypes(include=['float'])\n",
    "freqgraph.hist(figsize=(20,15))\n",
    "plt.show()"
   ]
  },
  {
   "cell_type": "markdown",
   "id": "1c3c54fe",
   "metadata": {},
   "source": [
    "All the data following right skewed (positive)distribution.Skewness tells us the direction of outliers. In a positive skew, the tail of a distribution curve is longer on the right side. This means the outliers of the distribution curve are further out towards the right and closer to the mean on the left."
   ]
  },
  {
   "cell_type": "markdown",
   "id": "886e16dc",
   "metadata": {},
   "source": [
    "#### 2 Outlier detection and handling "
   ]
  },
  {
   "cell_type": "code",
   "execution_count": 18,
   "id": "1a226668",
   "metadata": {},
   "outputs": [
    {
     "data": {
      "text/plain": [
       "{'whiskers': [<matplotlib.lines.Line2D at 0x251e7ab5670>,\n",
       "  <matplotlib.lines.Line2D at 0x251e7ab5940>,\n",
       "  <matplotlib.lines.Line2D at 0x251e73c7a60>,\n",
       "  <matplotlib.lines.Line2D at 0x251e73c7d30>,\n",
       "  <matplotlib.lines.Line2D at 0x251e73d4e50>,\n",
       "  <matplotlib.lines.Line2D at 0x251e73e2160>,\n",
       "  <matplotlib.lines.Line2D at 0x251e73ef280>,\n",
       "  <matplotlib.lines.Line2D at 0x251e73ef550>,\n",
       "  <matplotlib.lines.Line2D at 0x251e73fb670>,\n",
       "  <matplotlib.lines.Line2D at 0x251e73fb940>,\n",
       "  <matplotlib.lines.Line2D at 0x251e7407a60>,\n",
       "  <matplotlib.lines.Line2D at 0x251e7407d30>,\n",
       "  <matplotlib.lines.Line2D at 0x251e7417e50>,\n",
       "  <matplotlib.lines.Line2D at 0x251e7421160>,\n",
       "  <matplotlib.lines.Line2D at 0x251e742b280>,\n",
       "  <matplotlib.lines.Line2D at 0x251e742b550>,\n",
       "  <matplotlib.lines.Line2D at 0x251e743d670>,\n",
       "  <matplotlib.lines.Line2D at 0x251e743d940>,\n",
       "  <matplotlib.lines.Line2D at 0x251e7447a60>,\n",
       "  <matplotlib.lines.Line2D at 0x251e7447d30>,\n",
       "  <matplotlib.lines.Line2D at 0x251e7455e50>,\n",
       "  <matplotlib.lines.Line2D at 0x251e7461160>],\n",
       " 'caps': [<matplotlib.lines.Line2D at 0x251e7ab5cd0>,\n",
       "  <matplotlib.lines.Line2D at 0x251e7ab5ee0>,\n",
       "  <matplotlib.lines.Line2D at 0x251e73d4040>,\n",
       "  <matplotlib.lines.Line2D at 0x251e73d4310>,\n",
       "  <matplotlib.lines.Line2D at 0x251e73e2430>,\n",
       "  <matplotlib.lines.Line2D at 0x251e73e2700>,\n",
       "  <matplotlib.lines.Line2D at 0x251e73ef820>,\n",
       "  <matplotlib.lines.Line2D at 0x251e73efaf0>,\n",
       "  <matplotlib.lines.Line2D at 0x251e73fbc10>,\n",
       "  <matplotlib.lines.Line2D at 0x251e73fbee0>,\n",
       "  <matplotlib.lines.Line2D at 0x251e7417040>,\n",
       "  <matplotlib.lines.Line2D at 0x251e7417310>,\n",
       "  <matplotlib.lines.Line2D at 0x251e7421430>,\n",
       "  <matplotlib.lines.Line2D at 0x251e7421700>,\n",
       "  <matplotlib.lines.Line2D at 0x251e742b820>,\n",
       "  <matplotlib.lines.Line2D at 0x251e742baf0>,\n",
       "  <matplotlib.lines.Line2D at 0x251e743dc10>,\n",
       "  <matplotlib.lines.Line2D at 0x251e743dee0>,\n",
       "  <matplotlib.lines.Line2D at 0x251e7455040>,\n",
       "  <matplotlib.lines.Line2D at 0x251e7455310>,\n",
       "  <matplotlib.lines.Line2D at 0x251e7461430>,\n",
       "  <matplotlib.lines.Line2D at 0x251e7461700>],\n",
       " 'boxes': [<matplotlib.lines.Line2D at 0x251e7ab5370>,\n",
       "  <matplotlib.lines.Line2D at 0x251e73c7790>,\n",
       "  <matplotlib.lines.Line2D at 0x251e73d4b80>,\n",
       "  <matplotlib.lines.Line2D at 0x251e73e2f70>,\n",
       "  <matplotlib.lines.Line2D at 0x251e73fb3a0>,\n",
       "  <matplotlib.lines.Line2D at 0x251e7407790>,\n",
       "  <matplotlib.lines.Line2D at 0x251e7417b80>,\n",
       "  <matplotlib.lines.Line2D at 0x251e7421f70>,\n",
       "  <matplotlib.lines.Line2D at 0x251e743d3a0>,\n",
       "  <matplotlib.lines.Line2D at 0x251e7447790>,\n",
       "  <matplotlib.lines.Line2D at 0x251e7455b80>],\n",
       " 'medians': [<matplotlib.lines.Line2D at 0x251e73c71f0>,\n",
       "  <matplotlib.lines.Line2D at 0x251e73d45e0>,\n",
       "  <matplotlib.lines.Line2D at 0x251e73e29d0>,\n",
       "  <matplotlib.lines.Line2D at 0x251e73efdc0>,\n",
       "  <matplotlib.lines.Line2D at 0x251e74071f0>,\n",
       "  <matplotlib.lines.Line2D at 0x251e74175e0>,\n",
       "  <matplotlib.lines.Line2D at 0x251e74219d0>,\n",
       "  <matplotlib.lines.Line2D at 0x251e742bdc0>,\n",
       "  <matplotlib.lines.Line2D at 0x251e74471f0>,\n",
       "  <matplotlib.lines.Line2D at 0x251e74555e0>,\n",
       "  <matplotlib.lines.Line2D at 0x251e74619d0>],\n",
       " 'fliers': [<matplotlib.lines.Line2D at 0x251e73c74c0>,\n",
       "  <matplotlib.lines.Line2D at 0x251e73d48b0>,\n",
       "  <matplotlib.lines.Line2D at 0x251e73e2ca0>,\n",
       "  <matplotlib.lines.Line2D at 0x251e73fb0d0>,\n",
       "  <matplotlib.lines.Line2D at 0x251e74074c0>,\n",
       "  <matplotlib.lines.Line2D at 0x251e74178b0>,\n",
       "  <matplotlib.lines.Line2D at 0x251e7421ca0>,\n",
       "  <matplotlib.lines.Line2D at 0x251e743d0d0>,\n",
       "  <matplotlib.lines.Line2D at 0x251e74474c0>,\n",
       "  <matplotlib.lines.Line2D at 0x251e74558b0>,\n",
       "  <matplotlib.lines.Line2D at 0x251e7461ca0>],\n",
       " 'means': []}"
      ]
     },
     "execution_count": 18,
     "metadata": {},
     "output_type": "execute_result"
    },
    {
     "data": {
      "image/png": "[encoded data removed]",
      "text/plain": [
       "<Figure size 432x288 with 1 Axes>"
      ]
     },
     "metadata": {
      "needs_background": "light"
     },
     "output_type": "display_data"
    }
   ],
   "source": [
    "plt.boxplot(df[['PM2.5', 'NO', 'NO2', 'NOx', 'CO', 'SO2', 'O3', 'Benzene',\n",
    "       'Toluene', 'Xylene', 'AQI']])"
   ]
  },
  {
   "cell_type": "markdown",
   "id": "a069f32d",
   "metadata": {},
   "source": [
    "outlier removal not possible because of heavy data loss."
   ]
  },
  {
   "cell_type": "markdown",
   "id": "3a9c729a",
   "metadata": {},
   "source": [
    "### Data Integration"
   ]
  },
  {
   "cell_type": "markdown",
   "id": "db33c903",
   "metadata": {},
   "source": [
    "So far, we've made sure to remove the impurities in data and make it clean. Now, the next step is to combine data from different sources to get a unified structure with more meaningful and valuable information.Here there is no data disparity,so we can skip this step."
   ]
  },
  {
   "cell_type": "markdown",
   "id": "12b234c5",
   "metadata": {},
   "source": [
    "#### Feature Engineering "
   ]
  },
  {
   "cell_type": "code",
   "execution_count": 19,
   "id": "4caf7726",
   "metadata": {},
   "outputs": [
    {
     "data": {
      "text/plain": [
       "Index(['PM2.5', 'NO', 'NO2', 'NOx', 'CO', 'SO2', 'O3', 'Benzene', 'Toluene',\n",
       "       'Xylene', 'AQI', 'AQI_Bucket', 'City_Ahmedabad', 'City_Amaravati',\n",
       "       'City_Amritsar'],\n",
       "      dtype='object')"
      ]
     },
     "execution_count": 19,
     "metadata": {},
     "output_type": "execute_result"
    }
   ],
   "source": [
    "df.columns"
   ]
  },
  {
   "cell_type": "code",
   "execution_count": 20,
   "id": "8c7f5fff",
   "metadata": {},
   "outputs": [],
   "source": [
    "df['mean_nox']=df[['NO','NO2','NOx']].mean(axis=1)\n",
    "df['sum_nox']=df[['NO','NO2','NOx']].sum(axis=1)\n",
    "df['skew_nox']=df[['NO','NO2','NOx']].skew(axis=1)"
   ]
  },
  {
   "cell_type": "markdown",
   "id": "ae875047",
   "metadata": {},
   "source": [
    "3 new features are added mean_nox,sum_nox and skew_nox."
   ]
  },
  {
   "cell_type": "markdown",
   "id": "93024045",
   "metadata": {},
   "source": [
    "#### Feature reduction "
   ]
  },
  {
   "cell_type": "code",
   "execution_count": 21,
   "id": "3152cde5",
   "metadata": {},
   "outputs": [
    {
     "data": {
      "text/plain": [
       "<AxesSubplot:>"
      ]
     },
     "execution_count": 21,
     "metadata": {},
     "output_type": "execute_result"
    },
    {
     "data": {
      "image/png": "[encoded data removed]",
      "text/plain": [
       "<Figure size 720x288 with 2 Axes>"
      ]
     },
     "metadata": {
      "needs_background": "light"
     },
     "output_type": "display_data"
    }
   ],
   "source": [
    "corrvalue=df.corr()\n",
    "plt.subplots(figsize=(10,4))\n",
    "sns.heatmap(corrvalue,vmin=-2,vmax=2,annot=True,linewidth=0.3)"
   ]
  },
  {
   "cell_type": "markdown",
   "id": "1c3de6a3",
   "metadata": {},
   "source": [
    "mean_nox and sum_nox has high correlation with NOx hence we remove them"
   ]
  },
  {
   "cell_type": "code",
   "execution_count": 22,
   "id": "9e95658d",
   "metadata": {},
   "outputs": [],
   "source": [
    "df.drop(['mean_nox','sum_nox'],axis=1,inplace=True)"
   ]
  },
  {
   "cell_type": "code",
   "execution_count": 23,
   "id": "26f60429",
   "metadata": {},
   "outputs": [
    {
     "data": {
      "text/html": [
       "<div>\n",
       "<style scoped>\n",
       "    .dataframe tbody tr th:only-of-type {\n",
       "        vertical-align: middle;\n",
       "    }\n",
       "\n",
       "    .dataframe tbody tr th {\n",
       "        vertical-align: top;\n",
       "    }\n",
       "\n",
       "    .dataframe thead th {\n",
       "        text-align: right;\n",
       "    }\n",
       "</style>\n",
       "<table border=\"1\" class=\"dataframe\">\n",
       "  <thead>\n",
       "    <tr style=\"text-align: right;\">\n",
       "      <th></th>\n",
       "      <th>PM2.5</th>\n",
       "      <th>NO</th>\n",
       "      <th>NO2</th>\n",
       "      <th>NOx</th>\n",
       "      <th>CO</th>\n",
       "      <th>SO2</th>\n",
       "      <th>O3</th>\n",
       "      <th>Benzene</th>\n",
       "      <th>Toluene</th>\n",
       "      <th>Xylene</th>\n",
       "      <th>AQI</th>\n",
       "      <th>AQI_Bucket</th>\n",
       "      <th>City_Ahmedabad</th>\n",
       "      <th>City_Amaravati</th>\n",
       "      <th>City_Amritsar</th>\n",
       "      <th>skew_nox</th>\n",
       "    </tr>\n",
       "  </thead>\n",
       "  <tbody>\n",
       "    <tr>\n",
       "      <th>0</th>\n",
       "      <td>83.13</td>\n",
       "      <td>6.93</td>\n",
       "      <td>28.71</td>\n",
       "      <td>33.72</td>\n",
       "      <td>6.93</td>\n",
       "      <td>49.52</td>\n",
       "      <td>59.76</td>\n",
       "      <td>0.02</td>\n",
       "      <td>0.00</td>\n",
       "      <td>3.14</td>\n",
       "      <td>209.0</td>\n",
       "      <td>3.0</td>\n",
       "      <td>1.0</td>\n",
       "      <td>0.0</td>\n",
       "      <td>0.0</td>\n",
       "      <td>-1.494086</td>\n",
       "    </tr>\n",
       "    <tr>\n",
       "      <th>1</th>\n",
       "      <td>79.84</td>\n",
       "      <td>13.85</td>\n",
       "      <td>28.68</td>\n",
       "      <td>41.08</td>\n",
       "      <td>13.85</td>\n",
       "      <td>48.49</td>\n",
       "      <td>97.07</td>\n",
       "      <td>0.04</td>\n",
       "      <td>0.00</td>\n",
       "      <td>4.81</td>\n",
       "      <td>328.0</td>\n",
       "      <td>2.0</td>\n",
       "      <td>1.0</td>\n",
       "      <td>0.0</td>\n",
       "      <td>0.0</td>\n",
       "      <td>-0.266421</td>\n",
       "    </tr>\n",
       "    <tr>\n",
       "      <th>2</th>\n",
       "      <td>94.52</td>\n",
       "      <td>24.39</td>\n",
       "      <td>32.66</td>\n",
       "      <td>52.61</td>\n",
       "      <td>24.39</td>\n",
       "      <td>67.39</td>\n",
       "      <td>111.33</td>\n",
       "      <td>0.24</td>\n",
       "      <td>0.01</td>\n",
       "      <td>7.67</td>\n",
       "      <td>514.0</td>\n",
       "      <td>1.0</td>\n",
       "      <td>1.0</td>\n",
       "      <td>0.0</td>\n",
       "      <td>0.0</td>\n",
       "      <td>1.120691</td>\n",
       "    </tr>\n",
       "    <tr>\n",
       "      <th>3</th>\n",
       "      <td>135.99</td>\n",
       "      <td>43.48</td>\n",
       "      <td>42.08</td>\n",
       "      <td>84.57</td>\n",
       "      <td>43.48</td>\n",
       "      <td>75.23</td>\n",
       "      <td>102.70</td>\n",
       "      <td>0.40</td>\n",
       "      <td>0.04</td>\n",
       "      <td>25.87</td>\n",
       "      <td>782.0</td>\n",
       "      <td>1.0</td>\n",
       "      <td>1.0</td>\n",
       "      <td>0.0</td>\n",
       "      <td>0.0</td>\n",
       "      <td>1.725498</td>\n",
       "    </tr>\n",
       "    <tr>\n",
       "      <th>4</th>\n",
       "      <td>178.33</td>\n",
       "      <td>54.56</td>\n",
       "      <td>35.31</td>\n",
       "      <td>72.80</td>\n",
       "      <td>54.56</td>\n",
       "      <td>55.04</td>\n",
       "      <td>107.38</td>\n",
       "      <td>0.46</td>\n",
       "      <td>0.06</td>\n",
       "      <td>35.61</td>\n",
       "      <td>914.0</td>\n",
       "      <td>1.0</td>\n",
       "      <td>1.0</td>\n",
       "      <td>0.0</td>\n",
       "      <td>0.0</td>\n",
       "      <td>-0.080786</td>\n",
       "    </tr>\n",
       "  </tbody>\n",
       "</table>\n",
       "</div>"
      ],
      "text/plain": [
       "    PM2.5     NO    NO2    NOx     CO    SO2      O3  Benzene  Toluene  \\\n",
       "0   83.13   6.93  28.71  33.72   6.93  49.52   59.76     0.02     0.00   \n",
       "1   79.84  13.85  28.68  41.08  13.85  48.49   97.07     0.04     0.00   \n",
       "2   94.52  24.39  32.66  52.61  24.39  67.39  111.33     0.24     0.01   \n",
       "3  135.99  43.48  42.08  84.57  43.48  75.23  102.70     0.40     0.04   \n",
       "4  178.33  54.56  35.31  72.80  54.56  55.04  107.38     0.46     0.06   \n",
       "\n",
       "   Xylene    AQI  AQI_Bucket  City_Ahmedabad  City_Amaravati  City_Amritsar  \\\n",
       "0    3.14  209.0         3.0             1.0             0.0            0.0   \n",
       "1    4.81  328.0         2.0             1.0             0.0            0.0   \n",
       "2    7.67  514.0         1.0             1.0             0.0            0.0   \n",
       "3   25.87  782.0         1.0             1.0             0.0            0.0   \n",
       "4   35.61  914.0         1.0             1.0             0.0            0.0   \n",
       "\n",
       "   skew_nox  \n",
       "0 -1.494086  \n",
       "1 -0.266421  \n",
       "2  1.120691  \n",
       "3  1.725498  \n",
       "4 -0.080786  "
      ]
     },
     "execution_count": 23,
     "metadata": {},
     "output_type": "execute_result"
    }
   ],
   "source": [
    "df.head()"
   ]
  },
  {
   "cell_type": "markdown",
   "id": "e94fa0a6",
   "metadata": {},
   "source": [
    "### Creating ML model"
   ]
  },
  {
   "cell_type": "code",
   "execution_count": 24,
   "id": "6b57606f",
   "metadata": {},
   "outputs": [
    {
     "data": {
      "text/plain": [
       "Index(['PM2.5', 'NO', 'NO2', 'NOx', 'CO', 'SO2', 'O3', 'Benzene', 'Toluene',\n",
       "       'Xylene', 'AQI', 'AQI_Bucket', 'City_Ahmedabad', 'City_Amaravati',\n",
       "       'City_Amritsar', 'skew_nox'],\n",
       "      dtype='object')"
      ]
     },
     "execution_count": 24,
     "metadata": {},
     "output_type": "execute_result"
    }
   ],
   "source": [
    "df.columns"
   ]
  },
  {
   "cell_type": "code",
   "execution_count": 28,
   "id": "5733149a",
   "metadata": {},
   "outputs": [],
   "source": [
    "x_data=df.drop(['AQI_Bucket'],axis=1)\n",
    "y=df['AQI_Bucket']"
   ]
  },
  {
   "cell_type": "markdown",
   "id": "5a2059b6",
   "metadata": {},
   "source": [
    "#### Normalization"
   ]
  },
  {
   "cell_type": "code",
   "execution_count": 29,
   "id": "0cb05439",
   "metadata": {},
   "outputs": [
    {
     "name": "stderr",
     "output_type": "stream",
     "text": [
      "C:\\Users\\aswat\\anaconda3\\lib\\site-packages\\numpy\\core\\fromnumeric.py:84: FutureWarning: In a future version, DataFrame.min(axis=None) will return a scalar min over the entire DataFrame. To retain the old behavior, use 'frame.min(axis=0)' or just 'frame.min()'\n",
      "  return reduction(axis=axis, out=out, **passkwargs)\n",
      "C:\\Users\\aswat\\anaconda3\\lib\\site-packages\\numpy\\core\\fromnumeric.py:84: FutureWarning: In a future version, DataFrame.max(axis=None) will return a scalar max over the entire DataFrame. To retain the old behavior, use 'frame.max(axis=0)' or just 'frame.max()'\n",
      "  return reduction(axis=axis, out=out, **passkwargs)\n"
     ]
    }
   ],
   "source": [
    "x = (x_data - np.min(x_data)) / (np.max(x_data) - np.min(x_data))"
   ]
  },
  {
   "cell_type": "markdown",
   "id": "4f675348",
   "metadata": {},
   "source": [
    "#### Train-Test split"
   ]
  },
  {
   "cell_type": "code",
   "execution_count": 30,
   "id": "5edf8c84",
   "metadata": {},
   "outputs": [],
   "source": [
    "from sklearn.model_selection import train_test_split"
   ]
  },
  {
   "cell_type": "code",
   "execution_count": 31,
   "id": "81948ff3",
   "metadata": {},
   "outputs": [],
   "source": [
    "x_train,x_test,y_train,y_test=train_test_split(x,y,test_size=0.3,random_state=42)"
   ]
  },
  {
   "cell_type": "code",
   "execution_count": 32,
   "id": "7f3008c6",
   "metadata": {},
   "outputs": [
    {
     "name": "stdout",
     "output_type": "stream",
     "text": [
      "x_train 1749\n",
      "x_test 750\n",
      "y_train 1749\n",
      "y_test 750\n"
     ]
    }
   ],
   "source": [
    "print(\"x_train\",len(x_train))\n",
    "print(\"x_test\",len(x_test))\n",
    "print(\"y_train\",len(y_train))\n",
    "print(\"y_test\",len(y_test))"
   ]
  },
  {
   "cell_type": "code",
   "execution_count": 34,
   "id": "1b088405",
   "metadata": {},
   "outputs": [],
   "source": [
    "from sklearn.linear_model import LogisticRegression"
   ]
  },
  {
   "cell_type": "code",
   "execution_count": 35,
   "id": "2e8eb837",
   "metadata": {},
   "outputs": [
    {
     "name": "stdout",
     "output_type": "stream",
     "text": [
      "Training Accuracy: 69.41%\n",
      "Testing Accuracy: 69.73%\n"
     ]
    },
    {
     "name": "stderr",
     "output_type": "stream",
     "text": [
      "C:\\Users\\aswat\\anaconda3\\lib\\site-packages\\sklearn\\linear_model\\_logistic.py:814: ConvergenceWarning: lbfgs failed to converge (status=1):\n",
      "STOP: TOTAL NO. of ITERATIONS REACHED LIMIT.\n",
      "\n",
      "Increase the number of iterations (max_iter) or scale the data as shown in:\n",
      "    https://scikit-learn.org/stable/modules/preprocessing.html\n",
      "Please also refer to the documentation for alternative solver options:\n",
      "    https://scikit-learn.org/stable/modules/linear_model.html#logistic-regression\n",
      "  n_iter_i = _check_optimize_result(\n"
     ]
    }
   ],
   "source": [
    "best_accuracies_each_classes = {}\n",
    "lr = LogisticRegression()\n",
    "lr.fit(x_train, y_train)\n",
    "accuracy_lr_train = round(lr.score(x_train, y_train)*100,2)\n",
    "accuracy_lr_test = round(lr.score(x_test,y_test)*100,2)\n",
    "best_accuracies_each_classes[\"Logistic Regression\"] = lr.score(x_test,y_test)*100\n",
    "print(\"Training Accuracy: {}%\".format(accuracy_lr_train))\n",
    "print(\"Testing Accuracy: {}%\".format(accuracy_lr_test))"
   ]
  },
  {
   "cell_type": "markdown",
   "id": "769fcaf1",
   "metadata": {},
   "source": [
    "#### Importing Machine learning libraries"
   ]
  },
  {
   "cell_type": "code",
   "execution_count": 64,
   "id": "b2c1ee1f",
   "metadata": {},
   "outputs": [],
   "source": [
    "from sklearn.naive_bayes import GaussianNB\n",
    "from sklearn.svm import SVC\n",
    "from sklearn.ensemble import RandomForestClassifier, VotingClassifier\n",
    "from sklearn.neighbors import KNeighborsClassifier\n",
    "from sklearn.tree import DecisionTreeClassifier\n",
    "from sklearn.metrics import accuracy_score, confusion_matrix\n",
    "import six\n",
    "import sys\n",
    "sys.modules['sklearn.externals.six'] = six"
   ]
  },
  {
   "cell_type": "markdown",
   "id": "7ff123a7",
   "metadata": {},
   "source": [
    "#### Building the model using SVM classifier"
   ]
  },
  {
   "cell_type": "markdown",
   "id": "39afc226",
   "metadata": {},
   "source": [
    "###### Linear SVM"
   ]
  },
  {
   "cell_type": "code",
   "execution_count": 65,
   "id": "8bed1dc2",
   "metadata": {},
   "outputs": [
    {
     "name": "stdout",
     "output_type": "stream",
     "text": [
      "0.6220697541452258\n",
      "0.6133333333333333\n"
     ]
    }
   ],
   "source": [
    "#building a support vecor machine on train data\n",
    "svc_model=SVC(C=.1,kernel='linear',gamma=1)\n",
    "svc_model.fit(x_train,y_train)\n",
    "\n",
    "prediction=svc_model.predict(x_test)\n",
    "#check the accuracy of the training data\n",
    "print(svc_model.score(x_train,y_train))\n",
    "print(svc_model.score(x_test,y_test))"
   ]
  },
  {
   "cell_type": "code",
   "execution_count": 66,
   "id": "fdbec55d",
   "metadata": {},
   "outputs": [
    {
     "data": {
      "text/plain": [
       "array([[158,   0,   5,   0,   0,   0],\n",
       "       [ 30,   7,  28,  14,   0,   0],\n",
       "       [ 12,   2,  53,  28,   0,   0],\n",
       "       [  1,   0,  50,  60,  66,   0],\n",
       "       [  0,   0,  10,   6, 182,   0],\n",
       "       [  0,   0,   0,   0,  38,   0]], dtype=int64)"
      ]
     },
     "execution_count": 66,
     "metadata": {},
     "output_type": "execute_result"
    }
   ],
   "source": [
    "confusion_matrix(y_test,prediction)"
   ]
  },
  {
   "cell_type": "markdown",
   "id": "b93ed1dc",
   "metadata": {},
   "source": [
    "##### Radial SVM "
   ]
  },
  {
   "cell_type": "code",
   "execution_count": 67,
   "id": "5752af5f",
   "metadata": {},
   "outputs": [
    {
     "name": "stdout",
     "output_type": "stream",
     "text": [
      "0.7449971412235563\n",
      "0.7466666666666667\n"
     ]
    }
   ],
   "source": [
    "#building a support vector machine on training data\n",
    "svc_model=SVC(kernel='rbf')\n",
    "svc_model.fit(x_train,y_train)\n",
    "\n",
    "prediction=svc_model.predict(x_test)\n",
    "#check the accuracy of the training data\n",
    "print(svc_model.score(x_train,y_train))\n",
    "print(svc_model.score(x_test,y_test))"
   ]
  },
  {
   "cell_type": "markdown",
   "id": "52f62ea3",
   "metadata": {},
   "source": [
    "##### Polynomial SVM "
   ]
  },
  {
   "cell_type": "code",
   "execution_count": 68,
   "id": "4b09a1ca",
   "metadata": {},
   "outputs": [
    {
     "name": "stdout",
     "output_type": "stream",
     "text": [
      "0.7958833619210978\n",
      "0.8053333333333333\n"
     ]
    }
   ],
   "source": [
    "#building a support vector machine on training data\n",
    "svc_model=SVC(kernel='poly')\n",
    "svc_model.fit(x_train,y_train)\n",
    "\n",
    "prediction=svc_model.predict(x_test)\n",
    "#check the accuracy of the training data\n",
    "print(svc_model.score(x_train,y_train))\n",
    "print(svc_model.score(x_test,y_test))"
   ]
  },
  {
   "cell_type": "markdown",
   "id": "e1860291",
   "metadata": {},
   "source": [
    "##### Sigmoid SVM"
   ]
  },
  {
   "cell_type": "code",
   "execution_count": 86,
   "id": "5040c366",
   "metadata": {},
   "outputs": [
    {
     "name": "stdout",
     "output_type": "stream",
     "text": [
      "0.411663807890223\n",
      "0.3973333333333333\n"
     ]
    }
   ],
   "source": [
    "#building a support vector machine on training data\n",
    "svc_model = SVC(kernel='sigmoid')\n",
    "svc_model.fit(x_train, y_train)\n",
    "best_accuracies_each_classes[\"SVM\"] = svc_model.score(x_test,y_test)*100\n",
    "prediction = svc_model.predict(x_test)\n",
    "#check the accuracy of the training data\n",
    "print(svc_model.score(x_train, y_train))\n",
    "print(svc_model.score(x_test, y_test))"
   ]
  },
  {
   "cell_type": "markdown",
   "id": "f509e82b",
   "metadata": {},
   "source": [
    "#### Building the model using Naive Bayes Classifier"
   ]
  },
  {
   "cell_type": "code",
   "execution_count": 85,
   "id": "24db5682",
   "metadata": {},
   "outputs": [
    {
     "name": "stdout",
     "output_type": "stream",
     "text": [
      "0.704\n"
     ]
    }
   ],
   "source": [
    "nb=GaussianNB()\n",
    "nb.fit(x_train,y_train)\n",
    "best_accuracies_each_classes[\"Naive Bayes\"] = nb.score(x_test,y_test)*100\n",
    "\n",
    "prediction=nb.predict(x_test)\n",
    "print(accuracy_score(prediction,y_test))"
   ]
  },
  {
   "cell_type": "code",
   "execution_count": 71,
   "id": "6d01e1ea",
   "metadata": {},
   "outputs": [
    {
     "name": "stdout",
     "output_type": "stream",
     "text": [
      "Naive Bayes classifier 0.704\n"
     ]
    }
   ],
   "source": [
    "print('Naive Bayes classifier',accuracy_score(prediction,y_test))"
   ]
  },
  {
   "cell_type": "markdown",
   "id": "20cbb03b",
   "metadata": {},
   "source": [
    "#### Building the model using  decision tree classifier"
   ]
  },
  {
   "cell_type": "code",
   "execution_count": 87,
   "id": "af87d347",
   "metadata": {},
   "outputs": [],
   "source": [
    "# Create Decision Tree classifer object\n",
    "clf = DecisionTreeClassifier()\n",
    "# Train Decision Tree Classifer\n",
    "clf = clf.fit(x_train,y_train)\n",
    "best_accuracies_each_classes[\"Decision Tree\"] = clf.score(x_test,y_test)*100\n",
    "#Predict the response for test dataset\n",
    "prediction = clf.predict(x_test)"
   ]
  },
  {
   "cell_type": "code",
   "execution_count": 74,
   "id": "879525c0",
   "metadata": {},
   "outputs": [
    {
     "name": "stdout",
     "output_type": "stream",
     "text": [
      "1.0\n"
     ]
    }
   ],
   "source": [
    "print(accuracy_score(prediction,y_test))"
   ]
  },
  {
   "cell_type": "markdown",
   "id": "b1f733b1",
   "metadata": {},
   "source": [
    "#### Building the model using Randomforest classifier"
   ]
  },
  {
   "cell_type": "code",
   "execution_count": 88,
   "id": "60b2542f",
   "metadata": {},
   "outputs": [],
   "source": [
    "rf=RandomForestClassifier()\n",
    "rf.fit(x_train,y_train)\n",
    "best_accuracies_each_classes[\"Random Forest\"] = rf.score(x_test,y_test)*100\n",
    "prediction=rf.predict(x_test)"
   ]
  },
  {
   "cell_type": "code",
   "execution_count": 89,
   "id": "1bbedc49",
   "metadata": {},
   "outputs": [
    {
     "name": "stdout",
     "output_type": "stream",
     "text": [
      "0.9933333333333333\n"
     ]
    }
   ],
   "source": [
    "print(accuracy_score(prediction,y_test))"
   ]
  },
  {
   "cell_type": "markdown",
   "id": "565a043a",
   "metadata": {},
   "source": [
    "### Comparing Classifications"
   ]
  },
  {
   "cell_type": "code",
   "execution_count": 90,
   "id": "dcdc7f7b",
   "metadata": {},
   "outputs": [
    {
     "data": {
      "image/png": "[encoded data removed]",
      "text/plain": [
       "<Figure size 576x360 with 1 Axes>"
      ]
     },
     "metadata": {
      "needs_background": "light"
     },
     "output_type": "display_data"
    }
   ],
   "source": [
    "plt.figure(figsize=(8,5))\n",
    "sns.barplot(y=list(best_accuracies_each_classes.keys()), x=list(best_accuracies_each_classes.values()))\n",
    "plt.xlabel('accuracy')\n",
    "plt.ylabel('classification methods')\n",
    "plt.show()"
   ]
  },
  {
   "cell_type": "markdown",
   "id": "3364d589",
   "metadata": {},
   "source": [
    "### Conclusion"
   ]
  },
  {
   "cell_type": "markdown",
   "id": "dd7a4c0a",
   "metadata": {},
   "source": [
    "As a result we found out that using the Decision tree and Random forest classifier we were able to reach a good model."
   ]
  },
  {
   "cell_type": "code",
   "execution_count": null,
   "id": "23bc941c",
   "metadata": {},
   "outputs": [],
   "source": []
  }
 ],
 "metadata": {
  "kernelspec": {
   "display_name": "Python 3 (ipykernel)",
   "language": "python",
   "name": "python3"
  },
  "language_info": {
   "codemirror_mode": {
    "name": "ipython",
    "version": 3
   },
   "file_extension": ".py",
   "mimetype": "text/x-python",
   "name": "python",
   "nbconvert_exporter": "python",
   "pygments_lexer": "ipython3",
   "version": "3.9.12"
  }
 },
 "nbformat": 4,
 "nbformat_minor": 5
}
